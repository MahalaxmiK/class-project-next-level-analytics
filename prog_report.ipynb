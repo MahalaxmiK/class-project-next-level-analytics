{
  "cells": [
    {
      "cell_type": "markdown",
      "metadata": {
        "id": "BCukm9U9AFGH"
      },
      "source": [
        "**Project Introduction**\n",
        "\n",
        "Our project focuses around how different music affects the mood of different listeners. The data set that we have chosen tracks the mood of listeners for various different songs. It also keeps track of other details and features of the songs, such as length, tempo, key, time signature, and popularity. Our group aims to find which of these key characteristics can best determine whether or not a listener will experience a positive or negative mood in response. With the data we can also see temporal trends, and perhaps see if there are any time periods that caused a change in trend for music mood and how they correlate to the events going on in the world.\n",
        "\n",
        "Link to github repo for the progress report: https://github.com/uic-ds-fall-2023/class-project-next-level-analytics/blob/main/prog-report.ipynb"
      ]
    },
    {
      "cell_type": "markdown",
      "metadata": {
        "id": "tlePx_prAFGK"
      },
      "source": [
        "The dataset has the following columns:\n",
        "- name\n",
        "- album\n",
        "- artist\n",
        "- id\n",
        "- release date\n",
        "- popularity\n",
        "- length\n",
        "- danceability\n",
        "- acousticness\n",
        "- energy\n",
        "- instrumentalness\n",
        "- liveness\n",
        "- valence\n",
        "- loudness\n",
        "- speechiness\n",
        "- tempo\n",
        "- key\n",
        "- time signature\n",
        "- mood"
      ]
    },
    {
      "cell_type": "markdown",
      "metadata": {
        "id": "ZvoRb9-YAFGL"
      },
      "source": [
        "Any changes: After speaking with the professor, we decided to use a publicly available dataset that has much more data points that we are able to study. The link to the dataset can be found here: https://www.kaggle.com/datasets/musicblogger/spotify-music-data-to-identify-the-moods/data\n",
        "\n",
        "Due to the change in the dataset that we are using, we have slightly altered the domain questions/hypotheses and scope of our initial project idea that we were aiming to explore and answer. We are now more focused on how key features of the songs that we are listening can impact the mood, such as key and time signature, rather than something as broad as using a song's genre, time spent listening to music, and age range to dictate these outcomes."
      ]
    },
    {
      "cell_type": "markdown",
      "metadata": {
        "id": "VsX3EXH3AFGL"
      },
      "source": [
        "**Data Cleaning**"
      ]
    },
    {
      "cell_type": "code",
      "execution_count": null,
      "metadata": {
        "id": "bm_vipmZAFGL"
      },
      "outputs": [],
      "source": [
        "# import necessary libraries\n",
        "\n",
        "import pandas as pd\n",
        "import numpy as np\n",
        "import seaborn as sns\n",
        "import matplotlib.pyplot as plt\n",
        "from sklearn import svm, metrics"
      ]
    },
    {
      "cell_type": "code",
      "execution_count": 4,
      "metadata": {
        "colab": {
          "base_uri": "https://localhost:8080/",
          "height": 206
        },
        "id": "wPFcm7HEAFGM",
        "outputId": "0681a8a7-f2ec-4278-df82-2070921c8679"
      },
      "outputs": [
        {
          "output_type": "execute_result",
          "data": {
            "text/plain": [
              "                                          name                        album  \\\n",
              "0                                         1999                         1999   \n",
              "1                                           23                           23   \n",
              "2                                     9 Crimes                            9   \n",
              "3                               99 Luftballons               99 Luftballons   \n",
              "4  A Boy Brushed Red Living In Black And White  They're Only Chasing Safety   \n",
              "\n",
              "           artist                      id release_date  popularity    tempo  \\\n",
              "0          Prince  2H7PHVdQ3mXqEHXcvclTB0   1982-10-27          68  118.523   \n",
              "1  Blonde Redhead  4HIwL9ii9CcXpTOTzMq0MP   2007-04-16          43  120.255   \n",
              "2     Damien Rice  5GZEeowhvSieFDiR8fQ2im   2006-11-06          60  136.168   \n",
              "3            Nena  6HA97v4wEGQ5TUClRM0XLc   1984-08-21           2  193.100   \n",
              "4       Underoath  47IWLfIKOKhFnz1FUEUIkE   2004-01-01          60  169.881   \n",
              "\n",
              "   key  time_signature       mood  \n",
              "0    5               4      Happy  \n",
              "1    8               4        Sad  \n",
              "2    0               4        Sad  \n",
              "3    4               4      Happy  \n",
              "4    1               4  Energetic  "
            ],
            "text/html": [
              "\n",
              "  <div id=\"df-63175b24-f2c2-4d29-be2e-01999ca67c80\" class=\"colab-df-container\">\n",
              "    <div>\n",
              "<style scoped>\n",
              "    .dataframe tbody tr th:only-of-type {\n",
              "        vertical-align: middle;\n",
              "    }\n",
              "\n",
              "    .dataframe tbody tr th {\n",
              "        vertical-align: top;\n",
              "    }\n",
              "\n",
              "    .dataframe thead th {\n",
              "        text-align: right;\n",
              "    }\n",
              "</style>\n",
              "<table border=\"1\" class=\"dataframe\">\n",
              "  <thead>\n",
              "    <tr style=\"text-align: right;\">\n",
              "      <th></th>\n",
              "      <th>name</th>\n",
              "      <th>album</th>\n",
              "      <th>artist</th>\n",
              "      <th>id</th>\n",
              "      <th>release_date</th>\n",
              "      <th>popularity</th>\n",
              "      <th>tempo</th>\n",
              "      <th>key</th>\n",
              "      <th>time_signature</th>\n",
              "      <th>mood</th>\n",
              "    </tr>\n",
              "  </thead>\n",
              "  <tbody>\n",
              "    <tr>\n",
              "      <th>0</th>\n",
              "      <td>1999</td>\n",
              "      <td>1999</td>\n",
              "      <td>Prince</td>\n",
              "      <td>2H7PHVdQ3mXqEHXcvclTB0</td>\n",
              "      <td>1982-10-27</td>\n",
              "      <td>68</td>\n",
              "      <td>118.523</td>\n",
              "      <td>5</td>\n",
              "      <td>4</td>\n",
              "      <td>Happy</td>\n",
              "    </tr>\n",
              "    <tr>\n",
              "      <th>1</th>\n",
              "      <td>23</td>\n",
              "      <td>23</td>\n",
              "      <td>Blonde Redhead</td>\n",
              "      <td>4HIwL9ii9CcXpTOTzMq0MP</td>\n",
              "      <td>2007-04-16</td>\n",
              "      <td>43</td>\n",
              "      <td>120.255</td>\n",
              "      <td>8</td>\n",
              "      <td>4</td>\n",
              "      <td>Sad</td>\n",
              "    </tr>\n",
              "    <tr>\n",
              "      <th>2</th>\n",
              "      <td>9 Crimes</td>\n",
              "      <td>9</td>\n",
              "      <td>Damien Rice</td>\n",
              "      <td>5GZEeowhvSieFDiR8fQ2im</td>\n",
              "      <td>2006-11-06</td>\n",
              "      <td>60</td>\n",
              "      <td>136.168</td>\n",
              "      <td>0</td>\n",
              "      <td>4</td>\n",
              "      <td>Sad</td>\n",
              "    </tr>\n",
              "    <tr>\n",
              "      <th>3</th>\n",
              "      <td>99 Luftballons</td>\n",
              "      <td>99 Luftballons</td>\n",
              "      <td>Nena</td>\n",
              "      <td>6HA97v4wEGQ5TUClRM0XLc</td>\n",
              "      <td>1984-08-21</td>\n",
              "      <td>2</td>\n",
              "      <td>193.100</td>\n",
              "      <td>4</td>\n",
              "      <td>4</td>\n",
              "      <td>Happy</td>\n",
              "    </tr>\n",
              "    <tr>\n",
              "      <th>4</th>\n",
              "      <td>A Boy Brushed Red Living In Black And White</td>\n",
              "      <td>They're Only Chasing Safety</td>\n",
              "      <td>Underoath</td>\n",
              "      <td>47IWLfIKOKhFnz1FUEUIkE</td>\n",
              "      <td>2004-01-01</td>\n",
              "      <td>60</td>\n",
              "      <td>169.881</td>\n",
              "      <td>1</td>\n",
              "      <td>4</td>\n",
              "      <td>Energetic</td>\n",
              "    </tr>\n",
              "  </tbody>\n",
              "</table>\n",
              "</div>\n",
              "    <div class=\"colab-df-buttons\">\n",
              "\n",
              "  <div class=\"colab-df-container\">\n",
              "    <button class=\"colab-df-convert\" onclick=\"convertToInteractive('df-63175b24-f2c2-4d29-be2e-01999ca67c80')\"\n",
              "            title=\"Convert this dataframe to an interactive table.\"\n",
              "            style=\"display:none;\">\n",
              "\n",
              "  <svg xmlns=\"http://www.w3.org/2000/svg\" height=\"24px\" viewBox=\"0 -960 960 960\">\n",
              "    <path d=\"M120-120v-720h720v720H120Zm60-500h600v-160H180v160Zm220 220h160v-160H400v160Zm0 220h160v-160H400v160ZM180-400h160v-160H180v160Zm440 0h160v-160H620v160ZM180-180h160v-160H180v160Zm440 0h160v-160H620v160Z\"/>\n",
              "  </svg>\n",
              "    </button>\n",
              "\n",
              "  <style>\n",
              "    .colab-df-container {\n",
              "      display:flex;\n",
              "      gap: 12px;\n",
              "    }\n",
              "\n",
              "    .colab-df-convert {\n",
              "      background-color: #E8F0FE;\n",
              "      border: none;\n",
              "      border-radius: 50%;\n",
              "      cursor: pointer;\n",
              "      display: none;\n",
              "      fill: #1967D2;\n",
              "      height: 32px;\n",
              "      padding: 0 0 0 0;\n",
              "      width: 32px;\n",
              "    }\n",
              "\n",
              "    .colab-df-convert:hover {\n",
              "      background-color: #E2EBFA;\n",
              "      box-shadow: 0px 1px 2px rgba(60, 64, 67, 0.3), 0px 1px 3px 1px rgba(60, 64, 67, 0.15);\n",
              "      fill: #174EA6;\n",
              "    }\n",
              "\n",
              "    .colab-df-buttons div {\n",
              "      margin-bottom: 4px;\n",
              "    }\n",
              "\n",
              "    [theme=dark] .colab-df-convert {\n",
              "      background-color: #3B4455;\n",
              "      fill: #D2E3FC;\n",
              "    }\n",
              "\n",
              "    [theme=dark] .colab-df-convert:hover {\n",
              "      background-color: #434B5C;\n",
              "      box-shadow: 0px 1px 3px 1px rgba(0, 0, 0, 0.15);\n",
              "      filter: drop-shadow(0px 1px 2px rgba(0, 0, 0, 0.3));\n",
              "      fill: #FFFFFF;\n",
              "    }\n",
              "  </style>\n",
              "\n",
              "    <script>\n",
              "      const buttonEl =\n",
              "        document.querySelector('#df-63175b24-f2c2-4d29-be2e-01999ca67c80 button.colab-df-convert');\n",
              "      buttonEl.style.display =\n",
              "        google.colab.kernel.accessAllowed ? 'block' : 'none';\n",
              "\n",
              "      async function convertToInteractive(key) {\n",
              "        const element = document.querySelector('#df-63175b24-f2c2-4d29-be2e-01999ca67c80');\n",
              "        const dataTable =\n",
              "          await google.colab.kernel.invokeFunction('convertToInteractive',\n",
              "                                                    [key], {});\n",
              "        if (!dataTable) return;\n",
              "\n",
              "        const docLinkHtml = 'Like what you see? Visit the ' +\n",
              "          '<a target=\"_blank\" href=https://colab.research.google.com/notebooks/data_table.ipynb>data table notebook</a>'\n",
              "          + ' to learn more about interactive tables.';\n",
              "        element.innerHTML = '';\n",
              "        dataTable['output_type'] = 'display_data';\n",
              "        await google.colab.output.renderOutput(dataTable, element);\n",
              "        const docLink = document.createElement('div');\n",
              "        docLink.innerHTML = docLinkHtml;\n",
              "        element.appendChild(docLink);\n",
              "      }\n",
              "    </script>\n",
              "  </div>\n",
              "\n",
              "\n",
              "<div id=\"df-4f238e0a-d77c-4046-9289-c0c2e322c5f9\">\n",
              "  <button class=\"colab-df-quickchart\" onclick=\"quickchart('df-4f238e0a-d77c-4046-9289-c0c2e322c5f9')\"\n",
              "            title=\"Suggest charts.\"\n",
              "            style=\"display:none;\">\n",
              "\n",
              "<svg xmlns=\"http://www.w3.org/2000/svg\" height=\"24px\"viewBox=\"0 0 24 24\"\n",
              "     width=\"24px\">\n",
              "    <g>\n",
              "        <path d=\"M19 3H5c-1.1 0-2 .9-2 2v14c0 1.1.9 2 2 2h14c1.1 0 2-.9 2-2V5c0-1.1-.9-2-2-2zM9 17H7v-7h2v7zm4 0h-2V7h2v10zm4 0h-2v-4h2v4z\"/>\n",
              "    </g>\n",
              "</svg>\n",
              "  </button>\n",
              "\n",
              "<style>\n",
              "  .colab-df-quickchart {\n",
              "      --bg-color: #E8F0FE;\n",
              "      --fill-color: #1967D2;\n",
              "      --hover-bg-color: #E2EBFA;\n",
              "      --hover-fill-color: #174EA6;\n",
              "      --disabled-fill-color: #AAA;\n",
              "      --disabled-bg-color: #DDD;\n",
              "  }\n",
              "\n",
              "  [theme=dark] .colab-df-quickchart {\n",
              "      --bg-color: #3B4455;\n",
              "      --fill-color: #D2E3FC;\n",
              "      --hover-bg-color: #434B5C;\n",
              "      --hover-fill-color: #FFFFFF;\n",
              "      --disabled-bg-color: #3B4455;\n",
              "      --disabled-fill-color: #666;\n",
              "  }\n",
              "\n",
              "  .colab-df-quickchart {\n",
              "    background-color: var(--bg-color);\n",
              "    border: none;\n",
              "    border-radius: 50%;\n",
              "    cursor: pointer;\n",
              "    display: none;\n",
              "    fill: var(--fill-color);\n",
              "    height: 32px;\n",
              "    padding: 0;\n",
              "    width: 32px;\n",
              "  }\n",
              "\n",
              "  .colab-df-quickchart:hover {\n",
              "    background-color: var(--hover-bg-color);\n",
              "    box-shadow: 0 1px 2px rgba(60, 64, 67, 0.3), 0 1px 3px 1px rgba(60, 64, 67, 0.15);\n",
              "    fill: var(--button-hover-fill-color);\n",
              "  }\n",
              "\n",
              "  .colab-df-quickchart-complete:disabled,\n",
              "  .colab-df-quickchart-complete:disabled:hover {\n",
              "    background-color: var(--disabled-bg-color);\n",
              "    fill: var(--disabled-fill-color);\n",
              "    box-shadow: none;\n",
              "  }\n",
              "\n",
              "  .colab-df-spinner {\n",
              "    border: 2px solid var(--fill-color);\n",
              "    border-color: transparent;\n",
              "    border-bottom-color: var(--fill-color);\n",
              "    animation:\n",
              "      spin 1s steps(1) infinite;\n",
              "  }\n",
              "\n",
              "  @keyframes spin {\n",
              "    0% {\n",
              "      border-color: transparent;\n",
              "      border-bottom-color: var(--fill-color);\n",
              "      border-left-color: var(--fill-color);\n",
              "    }\n",
              "    20% {\n",
              "      border-color: transparent;\n",
              "      border-left-color: var(--fill-color);\n",
              "      border-top-color: var(--fill-color);\n",
              "    }\n",
              "    30% {\n",
              "      border-color: transparent;\n",
              "      border-left-color: var(--fill-color);\n",
              "      border-top-color: var(--fill-color);\n",
              "      border-right-color: var(--fill-color);\n",
              "    }\n",
              "    40% {\n",
              "      border-color: transparent;\n",
              "      border-right-color: var(--fill-color);\n",
              "      border-top-color: var(--fill-color);\n",
              "    }\n",
              "    60% {\n",
              "      border-color: transparent;\n",
              "      border-right-color: var(--fill-color);\n",
              "    }\n",
              "    80% {\n",
              "      border-color: transparent;\n",
              "      border-right-color: var(--fill-color);\n",
              "      border-bottom-color: var(--fill-color);\n",
              "    }\n",
              "    90% {\n",
              "      border-color: transparent;\n",
              "      border-bottom-color: var(--fill-color);\n",
              "    }\n",
              "  }\n",
              "</style>\n",
              "\n",
              "  <script>\n",
              "    async function quickchart(key) {\n",
              "      const quickchartButtonEl =\n",
              "        document.querySelector('#' + key + ' button');\n",
              "      quickchartButtonEl.disabled = true;  // To prevent multiple clicks.\n",
              "      quickchartButtonEl.classList.add('colab-df-spinner');\n",
              "      try {\n",
              "        const charts = await google.colab.kernel.invokeFunction(\n",
              "            'suggestCharts', [key], {});\n",
              "      } catch (error) {\n",
              "        console.error('Error during call to suggestCharts:', error);\n",
              "      }\n",
              "      quickchartButtonEl.classList.remove('colab-df-spinner');\n",
              "      quickchartButtonEl.classList.add('colab-df-quickchart-complete');\n",
              "    }\n",
              "    (() => {\n",
              "      let quickchartButtonEl =\n",
              "        document.querySelector('#df-4f238e0a-d77c-4046-9289-c0c2e322c5f9 button');\n",
              "      quickchartButtonEl.style.display =\n",
              "        google.colab.kernel.accessAllowed ? 'block' : 'none';\n",
              "    })();\n",
              "  </script>\n",
              "</div>\n",
              "    </div>\n",
              "  </div>\n"
            ]
          },
          "metadata": {},
          "execution_count": 4
        }
      ],
      "source": [
        "# read in the data file\n",
        "music_data = pd.read_csv('data_moods.csv')\n",
        "\n",
        "# clean data to include specific columns, exclude subjective columns such as \"danceability\"\n",
        "music_data = music_data[['name', 'album', 'artist', 'id', 'release_date', 'popularity', 'tempo', 'key', 'time_signature', 'mood']]\n",
        "\n",
        "# now remove any rows with n/a values\n",
        "music_data = music_data.dropna()\n",
        "\n",
        "# display the first five entries\n",
        "music_data.head()"
      ]
    },
    {
      "cell_type": "markdown",
      "metadata": {
        "id": "xnydNCacAFGN"
      },
      "source": [
        "**Exploratory Data Analysis**"
      ]
    },
    {
      "cell_type": "markdown",
      "metadata": {
        "id": "FtUrsnk5AFGN"
      },
      "source": [
        "**(Nicole and Mahalaxmi)**\n",
        "Include any interesting issues or preliminary conclusions\n",
        "you have about your data"
      ]
    },
    {
      "cell_type": "code",
      "execution_count": 5,
      "metadata": {
        "id": "BFJ0iQEsAFGN",
        "outputId": "5e0b419e-e514-4ee2-bba9-f6ac58df9a2b",
        "colab": {
          "base_uri": "https://localhost:8080/"
        }
      },
      "outputs": [
        {
          "output_type": "stream",
          "name": "stdout",
          "text": [
            "Descriptive Statistics of the Music Data: \n",
            "       popularity       tempo         key  time_signature\n",
            "count  686.000000  686.000000  686.000000      686.000000\n",
            "mean    41.534985  119.134679    5.335277        3.870262\n",
            "std     23.045707   28.978685    3.550858        0.500297\n",
            "min      0.000000   50.960000    0.000000        1.000000\n",
            "25%     30.000000   99.008750    2.000000        4.000000\n",
            "50%     47.000000  120.071000    6.000000        4.000000\n",
            "75%     57.000000  132.953250    9.000000        4.000000\n",
            "max     88.000000  217.950000   11.000000        5.000000\n",
            "\n",
            "The average tempo across all songs: \n",
            "119.13467930029152\n",
            "\n",
            "Average tempo of happy songs:\n",
            "124.21367857142857\n",
            "\n",
            "Average popularity of happy songs: \n",
            "48.58571428571429\n",
            "\n",
            "Average tempo of sad songs:\n",
            "115.5997461928934\n",
            "\n",
            "Average popularity of sad songs: \n",
            "37.73096446700507\n",
            "\n",
            "Grouping of years and count of the moods present for that year: \n"
          ]
        },
        {
          "output_type": "execute_result",
          "data": {
            "text/plain": [
              "year  mood     \n",
              "1963  Happy          1\n",
              "1966  Happy          1\n",
              "1967  Happy          1\n",
              "1969  Happy          3\n",
              "1972  Happy          4\n",
              "                  ... \n",
              "2019  Sad           45\n",
              "2020  Calm         114\n",
              "      Energetic      1\n",
              "      Happy          2\n",
              "      Sad           33\n",
              "Name: mood, Length: 104, dtype: int64"
            ]
          },
          "metadata": {},
          "execution_count": 5
        }
      ],
      "source": [
        "print(\"Descriptive Statistics of the Music Data: \")\n",
        "print(music_data.describe())\n",
        "print()\n",
        "print(\"The average tempo across all songs: \")\n",
        "print(music_data['tempo'].mean())\n",
        "print()\n",
        "print(\"Average tempo of happy songs:\")\n",
        "happy_songs = music_data[music_data['mood'] == 'Happy']\n",
        "print(happy_songs['tempo'].mean())\n",
        "print()\n",
        "print(\"Average popularity of happy songs: \")\n",
        "print(happy_songs['popularity'].mean())\n",
        "print()\n",
        "print(\"Average tempo of sad songs:\")\n",
        "sad_songs = music_data[music_data['mood'] == 'Sad']\n",
        "print(sad_songs['tempo'].mean())\n",
        "print()\n",
        "print(\"Average popularity of sad songs: \")\n",
        "print(sad_songs['popularity'].mean())\n",
        "print()\n",
        "print(\"Grouping of years and count of the moods present for that year: \")\n",
        "data = pd.to_datetime(music_data['release_date'], errors='coerce', utc=True).dt.strftime('%Y')\n",
        "music_data['year'] = data\n",
        "music_data.groupby(['year', 'mood'])['mood'].count()"
      ]
    },
    {
      "cell_type": "markdown",
      "metadata": {
        "id": "-Eiw_L_UAFGO"
      },
      "source": [
        "**Visualizations**"
      ]
    },
    {
      "cell_type": "code",
      "execution_count": null,
      "metadata": {
        "id": "VLzaKp9JAFGO",
        "outputId": "bb2fbfa9-e9de-4e8f-f776-e36bc83b5df2"
      },
      "outputs": [
        {
          "data": {
            "text/plain": [
              "<matplotlib.legend.Legend at 0x2226ed3b670>"
            ]
          },
          "execution_count": 4,
          "metadata": {},
          "output_type": "execute_result"
        },
        {
          "data": {
            "image/png": "[encoded data removed]",
            "text/plain": [
              "<Figure size 432x288 with 1 Axes>"
            ]
          },
          "metadata": {},
          "output_type": "display_data"
        }
      ],
      "source": [
        "# visualization 1\n",
        "# barchart for comparison between moods and popularity with time signature hue\n",
        "ax = sns.barplot(data = music_data, x = 'mood', y ='popularity', hue = 'time_signature', palette = 'flare')\n",
        "ax.set(ylabel = \"Popularity\", xlabel = 'Mood', title = \"Song Popularity Based on Mood and Time Signature\")\n",
        "plt.legend(title = 'Time Signature\\n(Beats per Measure)', bbox_to_anchor = (1, 0.50), loc = 'upper left')"
      ]
    },
    {
      "cell_type": "markdown",
      "metadata": {
        "id": "xFLHaSS4AFGO"
      },
      "source": [
        "**(Nicole)**\n",
        "Explain Interesting Hypothesis Considered Here\n",
        "\n",
        "Explanation about why you thought this was an interesting hypothesis to investigate\n",
        "\n",
        "Explain Interesting Trends Graph Has"
      ]
    },
    {
      "cell_type": "code",
      "execution_count": null,
      "metadata": {
        "id": "0fD6Wo11AFGO",
        "outputId": "1703cd25-d189-41d6-b431-a5cc0d19c1da"
      },
      "outputs": [
        {
          "data": {
            "text/plain": [
              "Text(0.5, 1.0, 'Tempo Dictated By Different Moods')"
            ]
          },
          "execution_count": 5,
          "metadata": {},
          "output_type": "execute_result"
        },
        {
          "data": {
            "image/png": "[encoded data removed]",
            "text/plain": [
              "<Figure size 432x288 with 1 Axes>"
            ]
          },
          "metadata": {},
          "output_type": "display_data"
        }
      ],
      "source": [
        "# visualization 2\n",
        "# boxplot for comparison between tempo of the music and moods\n",
        "sns.boxplot(data = music_data, x = 'tempo', y = 'mood', hue = 'mood', palette = 'icefire').set_title('Tempo Dictated By Different Moods')"
      ]
    },
    {
      "cell_type": "markdown",
      "metadata": {
        "id": "0RM9cjg_AFGO"
      },
      "source": [
        "**(Mahalaxmi)**\n",
        "Explain Interesting Hypothesis Considered Here\n",
        "\n",
        "Explanation about why you thought this was an interesting hypothesis to investigate\n",
        "\n",
        "Explain Interesting Trends Graph Has"
      ]
    },
    {
      "cell_type": "code",
      "execution_count": null,
      "metadata": {
        "id": "a_bNqShCAFGO"
      },
      "outputs": [],
      "source": [
        "# visualization 3 (1 More Unique Graph, Darlene)\n",
        "\n",
        "# Suggestion: Maybe graph something connecting\n",
        "# date such as year and tempo/popularity to\n",
        "# moods -> maybe try scatterplot with year on\n",
        "# x-axis and y-axis have popularity or tempo\n",
        "# with hue as the 4 moods\n",
        "#hello\n",
        "#hi world"
      ]
    },
    {
      "cell_type": "markdown",
      "metadata": {
        "id": "i4bz_-aHAFGO"
      },
      "source": [
        "**(Darlene)**\n",
        "Explain Interesting Hypothesis Considered Here\n",
        "\n",
        "Explanation about why you thought this was an interesting hypothesis to investigate\n",
        "\n",
        "Explain Interesting Trends Graph Has"
      ]
    },
    {
      "cell_type": "markdown",
      "metadata": {
        "id": "WDAfVDtZAFGO"
      },
      "source": [
        "**Machine Learning Analysis**"
      ]
    },
    {
      "cell_type": "code",
      "execution_count": 5,
      "metadata": {
        "colab": {
          "base_uri": "https://localhost:8080/"
        },
        "id": "OC-JxWoAAFGP",
        "outputId": "d0eb6c0d-1fce-406d-c21e-fd32bb180408"
      },
      "outputs": [
        {
          "output_type": "stream",
          "name": "stdout",
          "text": [
            "Training accuracy for baseline is  0.28717201166180756\n",
            "Training accuracy for svm is  0.45454545454545453\n"
          ]
        }
      ],
      "source": [
        "# Machine Learning Analysis 1 (Shreya)\n",
        "# Determine the mood of the song(happy/sad/energetic/calm) based on tempo\n",
        "\n",
        "# Split test and train data\n",
        "X = music_data['popularity']\n",
        "y = music_data['mood']\n",
        "\n",
        "X_train = X[:620]\n",
        "X_test = X[620:]\n",
        "\n",
        "y_train = y[:620]\n",
        "y_test = y[620:]\n",
        "\n",
        "# Baseline comparision\n",
        "freq_dict = {}\n",
        "\n",
        "for i in y:\n",
        "  freq_dict.setdefault(i, 0)\n",
        "  freq_dict[i] += 1\n",
        "\n",
        "max_freq = max(freq_dict.values())\n",
        "max_freq_lst = []\n",
        "\n",
        "for k, v in freq_dict.items():\n",
        "  if v == max_freq:\n",
        "    max_freq_lst.append(k)\n",
        "\n",
        "mode = max_freq_lst[0]\n",
        "\n",
        "labels = [mode] * X.shape[0]\n",
        "\n",
        "correct_pred_cnt = 0\n",
        "\n",
        "for i in range(len(labels)):\n",
        "  if labels[i] == y[i]:\n",
        "    correct_pred_cnt += 1\n",
        "\n",
        "training_accuracy = correct_pred_cnt/len(y)\n",
        "print(\"Training accuracy for baseline is \", training_accuracy)\n",
        "\n",
        "# Actual model\n",
        "\n",
        "clf = svm.SVC(gamma = 'scale', kernel = 'rbf')\n",
        "clf.fit(X_train.array.reshape(-1, 1), y_train.array)\n",
        "\n",
        "y_pred = clf.predict(X_test.array.reshape(-1,1))\n",
        "accuracy = metrics.accuracy_score(y_test.array, y_pred)\n",
        "print(\"Training accuracy for svm is \", accuracy)"
      ]
    },
    {
      "cell_type": "markdown",
      "metadata": {
        "id": "6c1lyvYAAFGP"
      },
      "source": [
        "**(Shreya)**\n",
        "Obtained Result Interpretation"
      ]
    },
    {
      "cell_type": "code",
      "execution_count": null,
      "metadata": {
        "id": "pJtMXk0aAFGP"
      },
      "outputs": [],
      "source": [
        "# Machine Learning Analysis 2 (Neelu)\n",
        "# Provide Baseline comparison"
      ]
    },
    {
      "cell_type": "markdown",
      "metadata": {
        "id": "dBY3FOHHAFGP"
      },
      "source": [
        "**(Neelu)**\n",
        "Obtained Result Interpretation"
      ]
    },
    {
      "cell_type": "markdown",
      "metadata": {
        "id": "c0HxeX9MAFGP"
      },
      "source": [
        "**Reflection**\n",
        "\n",
        "**(Mahalaxmi)**\n",
        "What is the hardest part of the project that you’ve encountered so far?\n",
        "\n",
        "**(Mahalaxmi)**\n",
        "What are your initial insights?\n",
        "\n",
        "**(Darlene)**\n",
        "Are there any concrete results you can show at this point? If not, why not?\n",
        "\n",
        "**(Darlene)**\n",
        "Going forward, what are the current biggest problems you’re facing?\n",
        "\n",
        "**(Shreya)**\n",
        "Do you think you are on track with your project? If not, what parts do you need to\n",
        "dedicate more time to?\n",
        "\n",
        "**(Shreya)**\n",
        "Given your initial exploration of the data, is it worth proceeding with your project,\n",
        "why?\n",
        "\n",
        "**(Neelu)**\n",
        "If not, how are you going to change your project and why do you think it’s\n",
        "better than your current results?"
      ]
    },
    {
      "cell_type": "markdown",
      "metadata": {
        "id": "NepynCn7AFGP"
      },
      "source": [
        "**Next Steps**\n",
        "\n",
        "**(Neelu)**\n",
        "What you plan to accomplish in the next month and how you plan to\n",
        "evaluate whether your project achieved the goals you set for it."
      ]
    }
  ],
  "metadata": {
    "colab": {
      "provenance": []
    },
    "kernelspec": {
      "display_name": "Python 3",
      "language": "python",
      "name": "python3"
    },
    "language_info": {
      "codemirror_mode": {
        "name": "ipython",
        "version": 3
      },
      "file_extension": ".py",
      "mimetype": "text/x-python",
      "name": "python",
      "nbconvert_exporter": "python",
      "pygments_lexer": "ipython3",
      "version": "3.9.5"
    }
  },
  "nbformat": 4,
  "nbformat_minor": 0
}