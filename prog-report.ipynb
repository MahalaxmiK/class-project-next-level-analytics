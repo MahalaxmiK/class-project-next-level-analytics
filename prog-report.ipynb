{
 "cells": [
  {
   "cell_type": "markdown",
   "metadata": {},
   "source": [
    "Project Introduction: Our project focuses around how different music affects the mood of different listeners. The data set that we have chosen tracks the mood of listeners for various different songs. It also keeps track of other details and features of the songs, such as length, tempo, key, time signature, and popularity. Our group aims to find which of these key characteristics can best determine whether or not a listener will experience a positive or negative mood in response. With the data we can also see temporal trends, and perhaps see if there are any time periods that caused a change in trend for music mood and how they correlate to the events going on in the world."
   ]
  },
  {
   "cell_type": "markdown",
   "metadata": {},
   "source": [
    "The dataset hass the following columns:\n",
    "- name\n",
    "- album\n",
    "- artist\n",
    "- id\n",
    "- release date\n",
    "- popularity\n",
    "- length\n",
    "- danceability\n",
    "- acousticness\n",
    "- energy\n",
    "- instrumentalness\n",
    "- liveness\n",
    "- valence\n",
    "- loudness\n",
    "- speechiness\n",
    "- tempo\n",
    "- key\n",
    "- time signature\n",
    "- mood"
   ]
  },
  {
   "cell_type": "markdown",
   "metadata": {},
   "source": [
    "Any changes: After speaking with the professor, we decided to use a publicly available dataset that has much more data points that we are able to study. The link to the dataset can be found here: https://www.kaggle.com/datasets/musicblogger/spotify-music-data-to-identify-the-moods/data\n",
    "\n",
    "Due to the change in the dataset that we are using, we have slightly altered the domain questions/hypotheses that we are aiming to explore and answer. We are now more focused on how key features of the songs that we are listening can impact the mood, such as key and time signature, rather than something as broad as using a song's genre to dictate these outcomes."
   ]
  },
  {
   "cell_type": "markdown",
   "metadata": {},
   "source": [
    "Data Cleaning"
   ]
  },
  {
   "cell_type": "code",
   "execution_count": 1,
   "metadata": {},
   "outputs": [],
   "source": [
    "#import necessary libraries\n",
    "\n",
    "import pandas as pd\n",
    "import numpy as np\n",
    "import seaborn as sns\n",
    "import matplotlib.pyplot as plt"
   ]
  },
  {
   "cell_type": "code",
   "execution_count": 6,
   "metadata": {},
   "outputs": [
    {
     "data": {
      "text/html": [
       "<div>\n",
       "<style scoped>\n",
       "    .dataframe tbody tr th:only-of-type {\n",
       "        vertical-align: middle;\n",
       "    }\n",
       "\n",
       "    .dataframe tbody tr th {\n",
       "        vertical-align: top;\n",
       "    }\n",
       "\n",
       "    .dataframe thead th {\n",
       "        text-align: right;\n",
       "    }\n",
       "</style>\n",
       "<table border=\"1\" class=\"dataframe\">\n",
       "  <thead>\n",
       "    <tr style=\"text-align: right;\">\n",
       "      <th></th>\n",
       "      <th>name</th>\n",
       "      <th>album</th>\n",
       "      <th>artist</th>\n",
       "      <th>id</th>\n",
       "      <th>release_date</th>\n",
       "      <th>popularity</th>\n",
       "      <th>tempo</th>\n",
       "      <th>key</th>\n",
       "      <th>time_signature</th>\n",
       "      <th>mood</th>\n",
       "    </tr>\n",
       "  </thead>\n",
       "  <tbody>\n",
       "    <tr>\n",
       "      <th>0</th>\n",
       "      <td>1999</td>\n",
       "      <td>1999</td>\n",
       "      <td>Prince</td>\n",
       "      <td>2H7PHVdQ3mXqEHXcvclTB0</td>\n",
       "      <td>1982-10-27</td>\n",
       "      <td>68</td>\n",
       "      <td>118.523</td>\n",
       "      <td>5</td>\n",
       "      <td>4</td>\n",
       "      <td>Happy</td>\n",
       "    </tr>\n",
       "    <tr>\n",
       "      <th>1</th>\n",
       "      <td>23</td>\n",
       "      <td>23</td>\n",
       "      <td>Blonde Redhead</td>\n",
       "      <td>4HIwL9ii9CcXpTOTzMq0MP</td>\n",
       "      <td>2007-04-16</td>\n",
       "      <td>43</td>\n",
       "      <td>120.255</td>\n",
       "      <td>8</td>\n",
       "      <td>4</td>\n",
       "      <td>Sad</td>\n",
       "    </tr>\n",
       "    <tr>\n",
       "      <th>2</th>\n",
       "      <td>9 Crimes</td>\n",
       "      <td>9</td>\n",
       "      <td>Damien Rice</td>\n",
       "      <td>5GZEeowhvSieFDiR8fQ2im</td>\n",
       "      <td>2006-11-06</td>\n",
       "      <td>60</td>\n",
       "      <td>136.168</td>\n",
       "      <td>0</td>\n",
       "      <td>4</td>\n",
       "      <td>Sad</td>\n",
       "    </tr>\n",
       "    <tr>\n",
       "      <th>3</th>\n",
       "      <td>99 Luftballons</td>\n",
       "      <td>99 Luftballons</td>\n",
       "      <td>Nena</td>\n",
       "      <td>6HA97v4wEGQ5TUClRM0XLc</td>\n",
       "      <td>1984-08-21</td>\n",
       "      <td>2</td>\n",
       "      <td>193.100</td>\n",
       "      <td>4</td>\n",
       "      <td>4</td>\n",
       "      <td>Happy</td>\n",
       "    </tr>\n",
       "    <tr>\n",
       "      <th>4</th>\n",
       "      <td>A Boy Brushed Red Living In Black And White</td>\n",
       "      <td>They're Only Chasing Safety</td>\n",
       "      <td>Underoath</td>\n",
       "      <td>47IWLfIKOKhFnz1FUEUIkE</td>\n",
       "      <td>2004-01-01</td>\n",
       "      <td>60</td>\n",
       "      <td>169.881</td>\n",
       "      <td>1</td>\n",
       "      <td>4</td>\n",
       "      <td>Energetic</td>\n",
       "    </tr>\n",
       "  </tbody>\n",
       "</table>\n",
       "</div>"
      ],
      "text/plain": [
       "                                          name                        album  \\\n",
       "0                                         1999                         1999   \n",
       "1                                           23                           23   \n",
       "2                                     9 Crimes                            9   \n",
       "3                               99 Luftballons               99 Luftballons   \n",
       "4  A Boy Brushed Red Living In Black And White  They're Only Chasing Safety   \n",
       "\n",
       "           artist                      id release_date  popularity    tempo  \\\n",
       "0          Prince  2H7PHVdQ3mXqEHXcvclTB0   1982-10-27          68  118.523   \n",
       "1  Blonde Redhead  4HIwL9ii9CcXpTOTzMq0MP   2007-04-16          43  120.255   \n",
       "2     Damien Rice  5GZEeowhvSieFDiR8fQ2im   2006-11-06          60  136.168   \n",
       "3            Nena  6HA97v4wEGQ5TUClRM0XLc   1984-08-21           2  193.100   \n",
       "4       Underoath  47IWLfIKOKhFnz1FUEUIkE   2004-01-01          60  169.881   \n",
       "\n",
       "   key  time_signature       mood  \n",
       "0    5               4      Happy  \n",
       "1    8               4        Sad  \n",
       "2    0               4        Sad  \n",
       "3    4               4      Happy  \n",
       "4    1               4  Energetic  "
      ]
     },
     "execution_count": 6,
     "metadata": {},
     "output_type": "execute_result"
    }
   ],
   "source": [
    "# read in the data file\n",
    "\n",
    "music_data = pd.read_csv('data_moods.csv')\n",
    "\n",
    "# now clean data in order to include specific columns, exclude subjective columns such as \"danceability\"\n",
    "\n",
    "music_data = music_data[['name', 'album', 'artist', 'id', 'release_date', 'popularity', 'tempo', 'key', 'time_signature', 'mood']]\n",
    "\n",
    "# now remove any rows with n/a values\n",
    "\n",
    "music_data = music_data.dropna()\n",
    "\n",
    "# display the first five entries\n",
    "music_data.head()"
   ]
  },
  {
   "cell_type": "markdown",
   "metadata": {},
   "source": [
    "Exploratory Data Analysis"
   ]
  },
  {
   "cell_type": "code",
   "execution_count": 15,
   "metadata": {},
   "outputs": [
    {
     "name": "stdout",
     "output_type": "stream",
     "text": [
      "The average tempo across all songs: \n",
      "119.13467930029152\n",
      "\n",
      "Average tempo of happy songs:\n",
      "124.21367857142857\n",
      "\n",
      "Average popularity of happy songs: \n",
      "48.58571428571429\n",
      "\n",
      "Average tempo of sad songs:\n",
      "115.5997461928934\n",
      "\n",
      "Average popularity of sad songs: \n",
      "37.73096446700507\n"
     ]
    }
   ],
   "source": [
    "print(\"The average tempo across all songs: \")\n",
    "print(music_data['tempo'].mean())\n",
    "print()\n",
    "print(\"Average tempo of happy songs:\")\n",
    "happy_songs = music_data[music_data['mood'] == 'Happy']\n",
    "print(happy_songs['tempo'].mean())\n",
    "print()\n",
    "print(\"Average popularity of happy songs: \")\n",
    "print(happy_songs['popularity'].mean())\n",
    "print()\n",
    "print(\"Average tempo of sad songs:\")\n",
    "sad_songs = music_data[music_data['mood'] == 'Sad']\n",
    "print(sad_songs['tempo'].mean())\n",
    "print()\n",
    "print(\"Average popularity of sad songs: \")\n",
    "print(sad_songs['popularity'].mean())"
   ]
  },
  {
   "cell_type": "markdown",
   "metadata": {},
   "source": [
    "Visualization(s)"
   ]
  },
  {
   "cell_type": "code",
   "execution_count": 21,
   "metadata": {},
   "outputs": [
    {
     "data": {
      "text/plain": [
       "<Axes: xlabel='mood', ylabel='popularity'>"
      ]
     },
     "execution_count": 21,
     "metadata": {},
     "output_type": "execute_result"
    },
    {
     "data": {
      "image/png": "[encoded data removed]",
      "text/plain": [
       "<Figure size 640x480 with 1 Axes>"
      ]
     },
     "metadata": {},
     "output_type": "display_data"
    }
   ],
   "source": [
    "# barchart for moods and popularitty\n",
    "sns.set_palette('viridis')\n",
    "sns.barplot(data = music_data, x = 'mood', y='popularity')\n"
   ]
  },
  {
   "cell_type": "code",
   "execution_count": null,
   "metadata": {},
   "outputs": [],
   "source": [
    "#Machine Learning Analysis"
   ]
  },
  {
   "cell_type": "code",
   "execution_count": null,
   "metadata": {},
   "outputs": [],
   "source": [
    "#Reflection"
   ]
  },
  {
   "cell_type": "markdown",
   "metadata": {},
   "source": [
    "Next Steps"
   ]
  }
 ],
 "metadata": {
  "kernelspec": {
   "display_name": "Python 3",
   "language": "python",
   "name": "python3"
  },
  "language_info": {
   "codemirror_mode": {
    "name": "ipython",
    "version": 3
   },
   "file_extension": ".py",
   "mimetype": "text/x-python",
   "name": "python",
   "nbconvert_exporter": "python",
   "pygments_lexer": "ipython3",
   "version": "3.8.10"
  },
  "orig_nbformat": 4
 },
 "nbformat": 4,
 "nbformat_minor": 2
}
