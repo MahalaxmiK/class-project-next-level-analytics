{
 "cells": [
  {
   "cell_type": "markdown",
   "metadata": {},
   "source": [
    "**Project Introduction**\n",
    "\n",
    "Our project focuses around how different music affects the mood of different listeners. The data set that we have chosen tracks the mood of listeners for various different songs. It also keeps track of other details and features of the songs, such as length, tempo, key, time signature, and popularity. Our group aims to find which of these key characteristics can best determine whether or not a listener will experience a positive or negative mood in response. With the data we can also see temporal trends, and perhaps see if there are any time periods that caused a change in trend for music mood and how they correlate to the events going on in the world.\n",
    "\n",
    "Link to github repo for the progress report: https://github.com/uic-ds-fall-2023/class-project-next-level-analytics/blob/main/prog-report.ipynb"
   ]
  },
  {
   "cell_type": "markdown",
   "metadata": {},
   "source": [
    "The dataset has the following columns:\n",
    "- name\n",
    "- album\n",
    "- artist\n",
    "- id\n",
    "- release date\n",
    "- popularity\n",
    "- length\n",
    "- danceability\n",
    "- acousticness\n",
    "- energy\n",
    "- instrumentalness\n",
    "- liveness\n",
    "- valence\n",
    "- loudness\n",
    "- speechiness\n",
    "- tempo\n",
    "- key\n",
    "- time signature\n",
    "- mood"
   ]
  },
  {
   "cell_type": "markdown",
   "metadata": {},
   "source": [
    "Any changes: After speaking with the professor, we decided to use a publicly available dataset that has much more data points that we are able to study. The link to the dataset can be found here: https://www.kaggle.com/datasets/musicblogger/spotify-music-data-to-identify-the-moods/data\n",
    "\n",
    "Due to the change in the dataset that we are using, we have slightly altered the domain questions/hypotheses and scope of our initial project idea that we were aiming to explore and answer. We are now more focused on how key features of the songs that we are listening can impact the mood, such as key and time signature, rather than something as broad as using a song's genre, time spent listening to music, and age range to dictate these outcomes."
   ]
  },
  {
   "cell_type": "markdown",
   "metadata": {},
   "source": [
    "**Data Cleaning**"
   ]
  },
  {
   "cell_type": "code",
   "execution_count": 1,
   "metadata": {},
   "outputs": [],
   "source": [
    "# import necessary libraries\n",
    "\n",
    "import pandas as pd\n",
    "import numpy as np\n",
    "import seaborn as sns\n",
    "import matplotlib.pyplot as plt"
   ]
  },
  {
   "cell_type": "code",
   "execution_count": 2,
   "metadata": {},
   "outputs": [
    {
     "data": {
      "text/html": [
       "<div>\n",
       "<style scoped>\n",
       "    .dataframe tbody tr th:only-of-type {\n",
       "        vertical-align: middle;\n",
       "    }\n",
       "\n",
       "    .dataframe tbody tr th {\n",
       "        vertical-align: top;\n",
       "    }\n",
       "\n",
       "    .dataframe thead th {\n",
       "        text-align: right;\n",
       "    }\n",
       "</style>\n",
       "<table border=\"1\" class=\"dataframe\">\n",
       "  <thead>\n",
       "    <tr style=\"text-align: right;\">\n",
       "      <th></th>\n",
       "      <th>name</th>\n",
       "      <th>album</th>\n",
       "      <th>artist</th>\n",
       "      <th>id</th>\n",
       "      <th>release_date</th>\n",
       "      <th>popularity</th>\n",
       "      <th>tempo</th>\n",
       "      <th>key</th>\n",
       "      <th>time_signature</th>\n",
       "      <th>mood</th>\n",
       "    </tr>\n",
       "  </thead>\n",
       "  <tbody>\n",
       "    <tr>\n",
       "      <th>0</th>\n",
       "      <td>1999</td>\n",
       "      <td>1999</td>\n",
       "      <td>Prince</td>\n",
       "      <td>2H7PHVdQ3mXqEHXcvclTB0</td>\n",
       "      <td>1982-10-27</td>\n",
       "      <td>68</td>\n",
       "      <td>118.523</td>\n",
       "      <td>5</td>\n",
       "      <td>4</td>\n",
       "      <td>Happy</td>\n",
       "    </tr>\n",
       "    <tr>\n",
       "      <th>1</th>\n",
       "      <td>23</td>\n",
       "      <td>23</td>\n",
       "      <td>Blonde Redhead</td>\n",
       "      <td>4HIwL9ii9CcXpTOTzMq0MP</td>\n",
       "      <td>2007-04-16</td>\n",
       "      <td>43</td>\n",
       "      <td>120.255</td>\n",
       "      <td>8</td>\n",
       "      <td>4</td>\n",
       "      <td>Sad</td>\n",
       "    </tr>\n",
       "    <tr>\n",
       "      <th>2</th>\n",
       "      <td>9 Crimes</td>\n",
       "      <td>9</td>\n",
       "      <td>Damien Rice</td>\n",
       "      <td>5GZEeowhvSieFDiR8fQ2im</td>\n",
       "      <td>2006-11-06</td>\n",
       "      <td>60</td>\n",
       "      <td>136.168</td>\n",
       "      <td>0</td>\n",
       "      <td>4</td>\n",
       "      <td>Sad</td>\n",
       "    </tr>\n",
       "    <tr>\n",
       "      <th>3</th>\n",
       "      <td>99 Luftballons</td>\n",
       "      <td>99 Luftballons</td>\n",
       "      <td>Nena</td>\n",
       "      <td>6HA97v4wEGQ5TUClRM0XLc</td>\n",
       "      <td>1984-08-21</td>\n",
       "      <td>2</td>\n",
       "      <td>193.100</td>\n",
       "      <td>4</td>\n",
       "      <td>4</td>\n",
       "      <td>Happy</td>\n",
       "    </tr>\n",
       "    <tr>\n",
       "      <th>4</th>\n",
       "      <td>A Boy Brushed Red Living In Black And White</td>\n",
       "      <td>They're Only Chasing Safety</td>\n",
       "      <td>Underoath</td>\n",
       "      <td>47IWLfIKOKhFnz1FUEUIkE</td>\n",
       "      <td>2004-01-01</td>\n",
       "      <td>60</td>\n",
       "      <td>169.881</td>\n",
       "      <td>1</td>\n",
       "      <td>4</td>\n",
       "      <td>Energetic</td>\n",
       "    </tr>\n",
       "  </tbody>\n",
       "</table>\n",
       "</div>"
      ],
      "text/plain": [
       "                                          name                        album  \\\n",
       "0                                         1999                         1999   \n",
       "1                                           23                           23   \n",
       "2                                     9 Crimes                            9   \n",
       "3                               99 Luftballons               99 Luftballons   \n",
       "4  A Boy Brushed Red Living In Black And White  They're Only Chasing Safety   \n",
       "\n",
       "           artist                      id release_date  popularity    tempo  \\\n",
       "0          Prince  2H7PHVdQ3mXqEHXcvclTB0   1982-10-27          68  118.523   \n",
       "1  Blonde Redhead  4HIwL9ii9CcXpTOTzMq0MP   2007-04-16          43  120.255   \n",
       "2     Damien Rice  5GZEeowhvSieFDiR8fQ2im   2006-11-06          60  136.168   \n",
       "3            Nena  6HA97v4wEGQ5TUClRM0XLc   1984-08-21           2  193.100   \n",
       "4       Underoath  47IWLfIKOKhFnz1FUEUIkE   2004-01-01          60  169.881   \n",
       "\n",
       "   key  time_signature       mood  \n",
       "0    5               4      Happy  \n",
       "1    8               4        Sad  \n",
       "2    0               4        Sad  \n",
       "3    4               4      Happy  \n",
       "4    1               4  Energetic  "
      ]
     },
     "execution_count": 2,
     "metadata": {},
     "output_type": "execute_result"
    }
   ],
   "source": [
    "# read in the data file\n",
    "music_data = pd.read_csv('data_moods.csv')\n",
    "\n",
    "# clean data to include specific columns, exclude subjective columns such as \"danceability\"\n",
    "music_data = music_data[['name', 'album', 'artist', 'id', 'release_date', 'popularity', 'tempo', 'key', 'time_signature', 'mood']]\n",
    "\n",
    "# now remove any rows with n/a values\n",
    "music_data = music_data.dropna()\n",
    "\n",
    "# display the first five entries\n",
    "music_data.head()"
   ]
  },
  {
   "cell_type": "markdown",
   "metadata": {},
   "source": [
    "**Exploratory Data Analysis**"
   ]
  },
  {
   "cell_type": "markdown",
   "metadata": {},
   "source": [
    "**(Nicole and Mahalaxmi)**\n",
    "Include any interesting issues or preliminary conclusions\n",
    "you have about your data "
   ]
  },
  {
   "cell_type": "code",
   "execution_count": 3,
   "metadata": {},
   "outputs": [
    {
     "name": "stdout",
     "output_type": "stream",
     "text": [
      "Descriptive Statistics of the Music Data: \n",
      "       popularity       tempo         key  time_signature\n",
      "count  686.000000  686.000000  686.000000      686.000000\n",
      "mean    41.534985  119.134679    5.335277        3.870262\n",
      "std     23.045707   28.978685    3.550858        0.500297\n",
      "min      0.000000   50.960000    0.000000        1.000000\n",
      "25%     30.000000   99.008750    2.000000        4.000000\n",
      "50%     47.000000  120.071000    6.000000        4.000000\n",
      "75%     57.000000  132.953250    9.000000        4.000000\n",
      "max     88.000000  217.950000   11.000000        5.000000\n",
      "\n",
      "The average tempo across all songs: \n",
      "119.13467930029152\n",
      "\n",
      "Average tempo of happy songs:\n",
      "124.21367857142857\n",
      "\n",
      "Average popularity of happy songs: \n",
      "48.58571428571429\n",
      "\n",
      "Average tempo of sad songs:\n",
      "115.5997461928934\n",
      "\n",
      "Average popularity of sad songs: \n",
      "37.73096446700507\n",
      "\n",
      "Grouping of years and count of the moods present for that year: \n"
     ]
    },
    {
     "data": {
      "text/plain": [
       "year  mood     \n",
       "1963  Happy          1\n",
       "1969  Happy          3\n",
       "1972  Happy          3\n",
       "1973  Happy          2\n",
       "1975  Happy          1\n",
       "                  ... \n",
       "2019  Sad           45\n",
       "2020  Calm         114\n",
       "      Energetic      1\n",
       "      Happy          2\n",
       "      Sad           33\n",
       "Name: mood, Length: 95, dtype: int64"
      ]
     },
     "execution_count": 3,
     "metadata": {},
     "output_type": "execute_result"
    }
   ],
   "source": [
    "print(\"Descriptive Statistics of the Music Data: \")\n",
    "print(music_data.describe())\n",
    "print()\n",
    "print(\"The average tempo across all songs: \")\n",
    "print(music_data['tempo'].mean())\n",
    "print()\n",
    "print(\"Average tempo of happy songs:\")\n",
    "happy_songs = music_data[music_data['mood'] == 'Happy']\n",
    "print(happy_songs['tempo'].mean())\n",
    "print()\n",
    "print(\"Average popularity of happy songs: \")\n",
    "print(happy_songs['popularity'].mean())\n",
    "print()\n",
    "print(\"Average tempo of sad songs:\")\n",
    "sad_songs = music_data[music_data['mood'] == 'Sad']\n",
    "print(sad_songs['tempo'].mean())\n",
    "print()\n",
    "print(\"Average popularity of sad songs: \")\n",
    "print(sad_songs['popularity'].mean())\n",
    "print()\n",
    "print(\"Grouping of years and count of the moods present for that year: \")\n",
    "data = pd.to_datetime(music_data['release_date'], errors='coerce', utc=True).dt.strftime('%Y')\n",
    "music_data['year'] = data\n",
    "music_data.groupby(['year', 'mood'])['mood'].count()"
   ]
  },
  {
   "cell_type": "markdown",
   "metadata": {},
   "source": [
    "**Visualizations**"
   ]
  },
  {
   "cell_type": "code",
   "execution_count": 25,
   "metadata": {},
   "outputs": [
    {
     "data": {
      "text/plain": [
       "<matplotlib.legend.Legend at 0x7fffb0f72a90>"
      ]
     },
     "execution_count": 25,
     "metadata": {},
     "output_type": "execute_result"
    },
    {
     "data": {
      "image/png": "[encoded data removed]",
      "text/plain": [
       "<Figure size 640x480 with 1 Axes>"
      ]
     },
     "metadata": {},
     "output_type": "display_data"
    }
   ],
   "source": [
    "# visualization 1\n",
    "# barchart for comparison between moods and popularity with time signature hue\n",
    "ax = sns.barplot(data = music_data, x = 'mood', y='popularity', hue = 'time_signature', palette = 'flare')\n",
    "ax.set(ylabel = \"Popularity\", xlabel = 'Mood', title =\"Song Popularity Based on Mood and Time Signature\")\n",
    "plt.legend(title='Time Signature\\n(Beats per Measure)', bbox_to_anchor=(1, 0.50), loc='upper left')"
   ]
  },
  {
   "cell_type": "markdown",
   "metadata": {},
   "source": [
    "**(Nicole)**\n",
    "Explain Interesting Hypothesis Considered Here \n",
    "\n",
    "Explanation about why you thought this was an interesting hypothesis to investigate\n",
    "\n",
    "Explain Interesting Trends Graph Has"
   ]
  },
  {
   "cell_type": "code",
   "execution_count": 26,
   "metadata": {},
   "outputs": [
    {
     "name": "stderr",
     "output_type": "stream",
     "text": [
      "/tmp/ipykernel_1333979/716993601.py:4: FutureWarning: \n",
      "\n",
      "Passing `palette` without assigning `hue` is deprecated and will be removed in v0.14.0. Assign the `y` variable to `hue` and set `legend=False` for the same effect.\n",
      "\n",
      "  sns.boxplot(data = music_data, x = 'tempo', y = 'mood', palette = 'icefire')\n"
     ]
    },
    {
     "data": {
      "text/plain": [
       "<Axes: xlabel='tempo', ylabel='mood'>"
      ]
     },
     "execution_count": 26,
     "metadata": {},
     "output_type": "execute_result"
    },
    {
     "data": {
      "image/png": "[encoded data removed]",
      "text/plain": [
       "<Figure size 640x480 with 1 Axes>"
      ]
     },
     "metadata": {},
     "output_type": "display_data"
    }
   ],
   "source": [
    "# visualization 2\n",
    "# boxplot for comparison between tempo of the music and moods\n",
    "# set palette doesnt work unless you do it within the boxplot function - nicole\n",
    "sns.set_palette('icefire')\n",
    "sns.boxplot(data = music_data, x = 'tempo', y = 'mood')"
   ]
  },
  {
   "cell_type": "markdown",
   "metadata": {},
   "source": [
    "**(Mahalaxmi)**\n",
    "Explain Interesting Hypothesis Considered Here\n",
    "\n",
    "Explanation about why you thought this was an interesting hypothesis to investigate\n",
    "\n",
    "Explain Interesting Trends Graph Has"
   ]
  },
  {
   "cell_type": "code",
   "execution_count": 6,
   "metadata": {},
   "outputs": [],
   "source": [
    "# visualization 3 (1 More Unique Graph, Darlene)\n",
    "\n",
    "# Suggestion: Maybe graph something connecting\n",
    "# date such as year and tempo/popularity to\n",
    "# moods -> maybe try scatterplot with year on\n",
    "# x-axis and y-axis have popularity or tempo\n",
    "# with hue as the 4 moods "
   ]
  },
  {
   "cell_type": "markdown",
   "metadata": {},
   "source": [
    "**(Darlene)**\n",
    "Explain Interesting Hypothesis Considered Here\n",
    "\n",
    "Explanation about why you thought this was an interesting hypothesis to investigate\n",
    "\n",
    "Explain Interesting Trends Graph Has"
   ]
  },
  {
   "cell_type": "markdown",
   "metadata": {},
   "source": [
    "**Machine Learning Analysis**"
   ]
  },
  {
   "cell_type": "code",
   "execution_count": 7,
   "metadata": {},
   "outputs": [],
   "source": [
    "# Machine Learning Analysis 1 (Shreya)\n",
    "# Provide Baseline comparision"
   ]
  },
  {
   "cell_type": "markdown",
   "metadata": {},
   "source": [
    "**(Shreya)**\n",
    "Obtained Result Interpretation"
   ]
  },
  {
   "cell_type": "code",
   "execution_count": 8,
   "metadata": {},
   "outputs": [],
   "source": [
    "# Machine Learning Analysis 2 (Neelu)\n",
    "# Provide Baseline comparison"
   ]
  },
  {
   "cell_type": "markdown",
   "metadata": {},
   "source": [
    "**(Neelu)**\n",
    "Obtained Result Interpretation"
   ]
  },
  {
   "cell_type": "markdown",
   "metadata": {},
   "source": [
    "**Reflection**\n",
    "\n",
    "**(Mahalaxmi)**\n",
    "What is the hardest part of the project that you’ve encountered so far?\n",
    "\n",
    "**(Mahalaxmi)**\n",
    "What are your initial insights?\n",
    "\n",
    "**(Darlene)**\n",
    "Are there any concrete results you can show at this point? If not, why not?\n",
    "\n",
    "**(Darlene)**\n",
    "Going forward, what are the current biggest problems you’re facing?\n",
    "\n",
    "**(Shreya)**\n",
    "Do you think you are on track with your project? If not, what parts do you need to\n",
    "dedicate more time to?\n",
    "\n",
    "**(Shreya)**\n",
    "Given your initial exploration of the data, is it worth proceeding with your project,\n",
    "why? \n",
    "\n",
    "**(Neelu)**\n",
    "If not, how are you going to change your project and why do you think it’s\n",
    "better than your current results?"
   ]
  },
  {
   "cell_type": "markdown",
   "metadata": {},
   "source": [
    "**Next Steps**\n",
    "\n",
    "**(Neelu)**\n",
    "What you plan to accomplish in the next month and how you plan to\n",
    "evaluate whether your project achieved the goals you set for it."
   ]
  }
 ],
 "metadata": {
  "kernelspec": {
   "display_name": "Python 3",
   "language": "python",
   "name": "python3"
  },
  "language_info": {
   "codemirror_mode": {
    "name": "ipython",
    "version": 3
   },
   "file_extension": ".py",
   "mimetype": "text/x-python",
   "name": "python",
   "nbconvert_exporter": "python",
   "pygments_lexer": "ipython3",
   "version": "3.8.10"
  },
  "orig_nbformat": 4
 },
 "nbformat": 4,
 "nbformat_minor": 2
}
