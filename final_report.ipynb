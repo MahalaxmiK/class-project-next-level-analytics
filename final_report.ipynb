{
 "cells": [
  {
   "attachments": {},
   "cell_type": "markdown",
   "metadata": {},
   "source": [
    "### Data"
   ]
  },
  {
   "attachments": {},
   "cell_type": "markdown",
   "metadata": {},
   "source": [
    "Our project focuses around how different music affects the mood of different listeners. The data set that we have chosen tracks the mood of listeners for various different songs. It also keeps track of other details and features of the songs, such as length, tempo, key, time signature, and popularity. Our group aims to find which of these key characteristics can best determine whether or not a listener will experience a positive or negative mood in response. With the data we can also see temporal trends, and perhaps see if there are any time periods that caused a change in trend for music mood and how they correlate to the events going on in the world.\n",
    "\n",
    "Link to github repo for the final report: https://github.com/uic-ds-fall-2023/class-project-next-level-analytics/blob/main/final_report.ipynb\n",
    "\n",
    "The dataset has the following columns:\n",
    "\n",
    "* name\n",
    "* album\n",
    "* artist\n",
    "* id\n",
    "* release date\n",
    "* popularity\n",
    "* length\n",
    "* danceability\n",
    "* acousticness \n",
    "* energy\n",
    "* instrumentalness\n",
    "* liveness\n",
    "* valence\n",
    "* loudness\n",
    "* speechiness\n",
    "* tempo\n",
    "* key\n",
    "* time signature\n",
    "* mood\n",
    "\n",
    "The link to the dataset can be found here: https://www.kaggle.com/datasets/musicblogger/spotify-music-data-to-identify-the-moods/data\n",
    "\n",
    "The below shows how the data was cleaned and is displayed after\n",
    "\n",
    "**Important Note:** The cleaned data used the following columns: name, album, artist, id, release date, popularity, tempo, key, time signature, and mood. These were the only columns which were non-subjective and provided value for the question we investigated. As a result, we did not find other useful columns to extract or need to transform more of the dataset used."
   ]
  },
  {
   "cell_type": "code",
   "execution_count": 1,
   "metadata": {},
   "outputs": [],
   "source": [
    "# import necessary libraries\n",
    "import pandas as pd\n",
    "import numpy as np\n",
    "import seaborn as sns\n",
    "import matplotlib.pyplot as plt\n",
    "from sklearn import svm, metrics"
   ]
  },
  {
   "cell_type": "code",
   "execution_count": 2,
   "metadata": {},
   "outputs": [
    {
     "data": {
      "text/html": [
       "<div>\n",
       "<style scoped>\n",
       "    .dataframe tbody tr th:only-of-type {\n",
       "        vertical-align: middle;\n",
       "    }\n",
       "\n",
       "    .dataframe tbody tr th {\n",
       "        vertical-align: top;\n",
       "    }\n",
       "\n",
       "    .dataframe thead th {\n",
       "        text-align: right;\n",
       "    }\n",
       "</style>\n",
       "<table border=\"1\" class=\"dataframe\">\n",
       "  <thead>\n",
       "    <tr style=\"text-align: right;\">\n",
       "      <th></th>\n",
       "      <th>name</th>\n",
       "      <th>album</th>\n",
       "      <th>artist</th>\n",
       "      <th>id</th>\n",
       "      <th>release_date</th>\n",
       "      <th>popularity</th>\n",
       "      <th>tempo</th>\n",
       "      <th>key</th>\n",
       "      <th>time_signature</th>\n",
       "      <th>mood</th>\n",
       "    </tr>\n",
       "  </thead>\n",
       "  <tbody>\n",
       "    <tr>\n",
       "      <th>0</th>\n",
       "      <td>1999</td>\n",
       "      <td>1999</td>\n",
       "      <td>Prince</td>\n",
       "      <td>2H7PHVdQ3mXqEHXcvclTB0</td>\n",
       "      <td>1982-10-27</td>\n",
       "      <td>68</td>\n",
       "      <td>118.523</td>\n",
       "      <td>5</td>\n",
       "      <td>4</td>\n",
       "      <td>Happy</td>\n",
       "    </tr>\n",
       "    <tr>\n",
       "      <th>1</th>\n",
       "      <td>23</td>\n",
       "      <td>23</td>\n",
       "      <td>Blonde Redhead</td>\n",
       "      <td>4HIwL9ii9CcXpTOTzMq0MP</td>\n",
       "      <td>2007-04-16</td>\n",
       "      <td>43</td>\n",
       "      <td>120.255</td>\n",
       "      <td>8</td>\n",
       "      <td>4</td>\n",
       "      <td>Sad</td>\n",
       "    </tr>\n",
       "    <tr>\n",
       "      <th>2</th>\n",
       "      <td>9 Crimes</td>\n",
       "      <td>9</td>\n",
       "      <td>Damien Rice</td>\n",
       "      <td>5GZEeowhvSieFDiR8fQ2im</td>\n",
       "      <td>2006-11-06</td>\n",
       "      <td>60</td>\n",
       "      <td>136.168</td>\n",
       "      <td>0</td>\n",
       "      <td>4</td>\n",
       "      <td>Sad</td>\n",
       "    </tr>\n",
       "    <tr>\n",
       "      <th>3</th>\n",
       "      <td>99 Luftballons</td>\n",
       "      <td>99 Luftballons</td>\n",
       "      <td>Nena</td>\n",
       "      <td>6HA97v4wEGQ5TUClRM0XLc</td>\n",
       "      <td>1984-08-21</td>\n",
       "      <td>2</td>\n",
       "      <td>193.100</td>\n",
       "      <td>4</td>\n",
       "      <td>4</td>\n",
       "      <td>Happy</td>\n",
       "    </tr>\n",
       "    <tr>\n",
       "      <th>4</th>\n",
       "      <td>A Boy Brushed Red Living In Black And White</td>\n",
       "      <td>They're Only Chasing Safety</td>\n",
       "      <td>Underoath</td>\n",
       "      <td>47IWLfIKOKhFnz1FUEUIkE</td>\n",
       "      <td>2004-01-01</td>\n",
       "      <td>60</td>\n",
       "      <td>169.881</td>\n",
       "      <td>1</td>\n",
       "      <td>4</td>\n",
       "      <td>Energetic</td>\n",
       "    </tr>\n",
       "    <tr>\n",
       "      <th>...</th>\n",
       "      <td>...</td>\n",
       "      <td>...</td>\n",
       "      <td>...</td>\n",
       "      <td>...</td>\n",
       "      <td>...</td>\n",
       "      <td>...</td>\n",
       "      <td>...</td>\n",
       "      <td>...</td>\n",
       "      <td>...</td>\n",
       "      <td>...</td>\n",
       "    </tr>\n",
       "    <tr>\n",
       "      <th>681</th>\n",
       "      <td>windcatcher</td>\n",
       "      <td>windcatcher</td>\n",
       "      <td>Leo Nocta</td>\n",
       "      <td>59VApBbrS2IADQk4ml5mdo</td>\n",
       "      <td>2020-06-19</td>\n",
       "      <td>36</td>\n",
       "      <td>129.736</td>\n",
       "      <td>0</td>\n",
       "      <td>3</td>\n",
       "      <td>Calm</td>\n",
       "    </tr>\n",
       "    <tr>\n",
       "      <th>682</th>\n",
       "      <td>yellow is the color of her eyes</td>\n",
       "      <td>yellow is the color of her eyes</td>\n",
       "      <td>Soccer Mommy</td>\n",
       "      <td>4D3nttJPU6L0M2epr7sId6</td>\n",
       "      <td>2019-11-19</td>\n",
       "      <td>5</td>\n",
       "      <td>80.537</td>\n",
       "      <td>11</td>\n",
       "      <td>4</td>\n",
       "      <td>Sad</td>\n",
       "    </tr>\n",
       "    <tr>\n",
       "      <th>683</th>\n",
       "      <td>you broke me first</td>\n",
       "      <td>you broke me first</td>\n",
       "      <td>Tate McRae</td>\n",
       "      <td>45bE4HXI0AwGZXfZtMp8JR</td>\n",
       "      <td>2020-04-17</td>\n",
       "      <td>87</td>\n",
       "      <td>124.099</td>\n",
       "      <td>4</td>\n",
       "      <td>4</td>\n",
       "      <td>Sad</td>\n",
       "    </tr>\n",
       "    <tr>\n",
       "      <th>684</th>\n",
       "      <td>you were good to me</td>\n",
       "      <td>brent</td>\n",
       "      <td>Jeremy Zucker</td>\n",
       "      <td>4CxFN5zON70B3VOPBYbd6P</td>\n",
       "      <td>2019-05-03</td>\n",
       "      <td>76</td>\n",
       "      <td>102.128</td>\n",
       "      <td>2</td>\n",
       "      <td>4</td>\n",
       "      <td>Sad</td>\n",
       "    </tr>\n",
       "    <tr>\n",
       "      <th>685</th>\n",
       "      <td>æfre</td>\n",
       "      <td>æfre</td>\n",
       "      <td>praam</td>\n",
       "      <td>2irbT1BSYaIEF44PlyKaoM</td>\n",
       "      <td>2020-07-17</td>\n",
       "      <td>41</td>\n",
       "      <td>140.179</td>\n",
       "      <td>0</td>\n",
       "      <td>4</td>\n",
       "      <td>Calm</td>\n",
       "    </tr>\n",
       "  </tbody>\n",
       "</table>\n",
       "<p>686 rows × 10 columns</p>\n",
       "</div>"
      ],
      "text/plain": [
       "                                            name  \\\n",
       "0                                           1999   \n",
       "1                                             23   \n",
       "2                                       9 Crimes   \n",
       "3                                 99 Luftballons   \n",
       "4    A Boy Brushed Red Living In Black And White   \n",
       "..                                           ...   \n",
       "681                                  windcatcher   \n",
       "682              yellow is the color of her eyes   \n",
       "683                           you broke me first   \n",
       "684                          you were good to me   \n",
       "685                                         æfre   \n",
       "\n",
       "                               album          artist                      id  \\\n",
       "0                               1999          Prince  2H7PHVdQ3mXqEHXcvclTB0   \n",
       "1                                 23  Blonde Redhead  4HIwL9ii9CcXpTOTzMq0MP   \n",
       "2                                  9     Damien Rice  5GZEeowhvSieFDiR8fQ2im   \n",
       "3                     99 Luftballons            Nena  6HA97v4wEGQ5TUClRM0XLc   \n",
       "4        They're Only Chasing Safety       Underoath  47IWLfIKOKhFnz1FUEUIkE   \n",
       "..                               ...             ...                     ...   \n",
       "681                      windcatcher       Leo Nocta  59VApBbrS2IADQk4ml5mdo   \n",
       "682  yellow is the color of her eyes    Soccer Mommy  4D3nttJPU6L0M2epr7sId6   \n",
       "683               you broke me first      Tate McRae  45bE4HXI0AwGZXfZtMp8JR   \n",
       "684                            brent   Jeremy Zucker  4CxFN5zON70B3VOPBYbd6P   \n",
       "685                             æfre           praam  2irbT1BSYaIEF44PlyKaoM   \n",
       "\n",
       "    release_date  popularity    tempo  key  time_signature       mood  \n",
       "0     1982-10-27          68  118.523    5               4      Happy  \n",
       "1     2007-04-16          43  120.255    8               4        Sad  \n",
       "2     2006-11-06          60  136.168    0               4        Sad  \n",
       "3     1984-08-21           2  193.100    4               4      Happy  \n",
       "4     2004-01-01          60  169.881    1               4  Energetic  \n",
       "..           ...         ...      ...  ...             ...        ...  \n",
       "681   2020-06-19          36  129.736    0               3       Calm  \n",
       "682   2019-11-19           5   80.537   11               4        Sad  \n",
       "683   2020-04-17          87  124.099    4               4        Sad  \n",
       "684   2019-05-03          76  102.128    2               4        Sad  \n",
       "685   2020-07-17          41  140.179    0               4       Calm  \n",
       "\n",
       "[686 rows x 10 columns]"
      ]
     },
     "execution_count": 2,
     "metadata": {},
     "output_type": "execute_result"
    }
   ],
   "source": [
    "# read in the data file\n",
    "music_data = pd.read_csv('data_moods.csv')\n",
    "\n",
    "# clean data to include specific columns, exclude subjective columns such as \"danceability\"\n",
    "music_data = music_data[['name', 'album', 'artist', 'id', 'release_date',\n",
    "                         'popularity', 'tempo', 'key', 'time_signature', 'mood']]\n",
    "\n",
    "# now remove any rows with n/a values\n",
    "music_data = music_data.dropna()\n",
    "\n",
    "# display all entries\n",
    "music_data"
   ]
  },
  {
   "attachments": {},
   "cell_type": "markdown",
   "metadata": {},
   "source": [
    "### ML/Stats"
   ]
  },
  {
   "cell_type": "code",
   "execution_count": 3,
   "metadata": {},
   "outputs": [
    {
     "name": "stdout",
     "output_type": "stream",
     "text": [
      "Training accuracy for baseline is:  0.28717201166180756\n",
      "Training accuracy for svm is:  0.45454545454545453\n"
     ]
    }
   ],
   "source": [
    "# Machine Learning Analysis 1\n",
    "# Determine the mood of the song (happy/sad/energetic/calm) based on popularity\n",
    "\n",
    "# Split test and train data\n",
    "X = music_data['popularity']\n",
    "y = music_data['mood']\n",
    "\n",
    "X_train = X[:620]\n",
    "X_test = X[620:]\n",
    "\n",
    "y_train = y[:620]\n",
    "y_test = y[620:]\n",
    "\n",
    "# Convert both the X_train and X_test to 2D arrays\n",
    "X_train = X_train.values.reshape(-1, 1)\n",
    "X_test = X_test.values.reshape(-1, 1)\n",
    "\n",
    "# Convert both y_train and y_test to lists\n",
    "y_train = y_train.tolist()\n",
    "y_test = y_test.tolist()\n",
    "\n",
    "# Baseline comparision\n",
    "freq_dict = {}\n",
    "\n",
    "for i in y:\n",
    "  freq_dict.setdefault(i, 0)\n",
    "  freq_dict[i] += 1\n",
    "\n",
    "max_freq = max(freq_dict.values())\n",
    "max_freq_lst = []\n",
    "\n",
    "for k, v in freq_dict.items():\n",
    "  if v == max_freq:\n",
    "    max_freq_lst.append(k)\n",
    "\n",
    "mode = max_freq_lst[0]\n",
    "\n",
    "labels = [mode] * X.shape[0]\n",
    "\n",
    "correct_pred_cnt = 0\n",
    "\n",
    "for i in range(len(labels)):\n",
    "  if labels[i] == y[i]:\n",
    "    correct_pred_cnt += 1\n",
    "\n",
    "training_accuracy = correct_pred_cnt/len(y)\n",
    "print(\"Training accuracy for baseline is: \", training_accuracy)\n",
    "\n",
    "# Actual model\n",
    "\n",
    "clf = svm.SVC(gamma='scale', kernel='rbf')\n",
    "clf.fit(X_train, y_train)\n",
    "\n",
    "y_pred = clf.predict(X_test)\n",
    "accuracy = metrics.accuracy_score(y_test, y_pred)\n",
    "print(\"Training accuracy for svm is: \", accuracy)"
   ]
  },
  {
   "attachments": {},
   "cell_type": "markdown",
   "metadata": {},
   "source": [
    "For this machine learning model, I used a svm with rbf kernel to determine the mood of songs based on its popularity. I compared this svm model to a baseline that only predicted the most commonly occurring mood to ensure the svm model was giving good, usable predictions.\n",
    "\n",
    "From exploration with this model we see that, although this model is more accurate than a simple baseline, it isn't the best model. From experimenting with different factors as X (tempo, key, etc), it appears that popularity gave the highest accuracy with the SVM model, which suggests that the data doesn't give very good fit in this manner. We should either try to collect more data or try a model that uses multiple factors for prediction and obtain higher accuracy."
   ]
  },
  {
   "cell_type": "code",
   "execution_count": 4,
   "metadata": {},
   "outputs": [
    {
     "name": "stdout",
     "output_type": "stream",
     "text": [
      "Training accuracy for baseline is:  0.28717201166180756\n",
      "Training accuracy for 5-KNN:  0.5072463768115942\n"
     ]
    }
   ],
   "source": [
    "# Machine Learning Analysis 2\n",
    "# Determine the mood of the song (happy/sad/energetic/calm) based on tempo\n",
    "\n",
    "from sklearn.neighbors import KNeighborsClassifier\n",
    "from sklearn.model_selection import train_test_split\n",
    "from statistics import mode\n",
    "\n",
    "X = music_data[['tempo']]\n",
    "y = music_data['mood']\n",
    "\n",
    "# Split data for train and test data with 80%/20%\n",
    "xtrain, xtest, ytrain, ytest = train_test_split(X, y, test_size = 0.2, random_state = 17)\n",
    "\n",
    "# Baseline comparison\n",
    "mode = mode(y)\n",
    "pred = [mode] * len(y)\n",
    "training_accuracy = (pred == y).mean()\n",
    "print(\"Training accuracy for baseline is: \", training_accuracy)\n",
    "\n",
    "# Actual model\n",
    "knn = KNeighborsClassifier(n_neighbors = 5)\n",
    "knn.fit(xtrain, ytrain)\n",
    "predict = knn.predict(xtest)\n",
    "acc = knn.score(xtest, ytest)\n",
    "print(\"Training accuracy for 5-KNN: \", acc)"
   ]
  },
  {
   "attachments": {},
   "cell_type": "markdown",
   "metadata": {},
   "source": [
    "For this machine learning model, I split the training and testing data with a 80/20 split and  used a KNN model with 5 nearest neighbors to determine the mood of the songs based on the tempo of the songs. I compared this model to a baseline model to ensure that it was giving correct results.\n",
    "\n",
    "We have discovered that although the 5-KNN model has a much better accuracy than the baseline, that it still isn't the best model with about a 51% training accuracy. After experimenting with the random_state number in the train_test_split function and the n_neighbors parameter in the KNeighborsClassifier model, a random_state of 17 and a KNN of 5 neighbors resulted in the best training accuracy so far. To improve the accuracy, we should focus on experimenting with different models to see which model out of everything would result in the highest training accuracy."
   ]
  },
  {
   "attachments": {},
   "cell_type": "markdown",
   "metadata": {},
   "source": [
    "### Visualizations"
   ]
  },
  {
   "cell_type": "code",
   "execution_count": 5,
   "metadata": {},
   "outputs": [
    {
     "data": {
      "text/plain": [
       "<matplotlib.legend.Legend at 0x1aa639ec070>"
      ]
     },
     "execution_count": 5,
     "metadata": {},
     "output_type": "execute_result"
    },
    {
     "data": {
      "image/png": "[encoded data removed]",
      "text/plain": [
       "<Figure size 432x288 with 1 Axes>"
      ]
     },
     "metadata": {
      "needs_background": "light"
     },
     "output_type": "display_data"
    }
   ],
   "source": [
    "# distinct visualization 1\n",
    "# barchart for comparison between moods and popularity with time signature hue\n",
    "ax = sns.barplot(data=music_data, x='mood', y='popularity',\n",
    "                 hue='time_signature', palette='flare')\n",
    "ax.set(ylabel='Popularity', xlabel='Mood',\n",
    "       title='Song Popularity Based on Mood and Time Signature')\n",
    "plt.legend(title='Time Signature\\n(Beats per Measure)',\n",
    "           bbox_to_anchor=(1, 0.50), loc='upper left')"
   ]
  },
  {
   "cell_type": "code",
   "execution_count": 6,
   "metadata": {},
   "outputs": [
    {
     "data": {
      "text/plain": [
       "[Text(0, 0.5, 'Mood'),\n",
       " Text(0.5, 0, 'Tempo (Beats Per Min)'),\n",
       " Text(0.5, 1.0, 'Song Tempo Dictated By Different Moods')]"
      ]
     },
     "execution_count": 6,
     "metadata": {},
     "output_type": "execute_result"
    },
    {
     "data": {
      "image/png": "[encoded data removed]",
      "text/plain": [
       "<Figure size 432x288 with 1 Axes>"
      ]
     },
     "metadata": {
      "needs_background": "light"
     },
     "output_type": "display_data"
    }
   ],
   "source": [
    "# distinct visualization 2\n",
    "# boxplot for comparison between tempo of the music and moods\n",
    "ax = sns.boxplot(data=music_data, x='tempo', y='mood',\n",
    "                 hue='mood', palette='icefire')\n",
    "ax.set(ylabel='Mood', xlabel='Tempo (Beats Per Min)',\n",
    "       title='Song Tempo Dictated By Different Moods')"
   ]
  },
  {
   "attachments": {},
   "cell_type": "markdown",
   "metadata": {},
   "source": [
    "### Additional Work (Darlene)"
   ]
  },
  {
   "cell_type": "code",
   "execution_count": 7,
   "metadata": {},
   "outputs": [],
   "source": [
    "# Machine Learning Analysis 3\n",
    "# Determine the mood of the song (happy/sad/energetic/calm) based on time signature or key\n",
    "# try with both key and time signature to determine which one you want to use \n",
    "# choose one that is more useful (has higher accuracy)\n",
    "\n",
    "# Notes to help: Please refer to above ML analysis to do this one \n",
    "# Feel free to use that code but maybe try a different ML model rather than svm or KNN\n",
    "# refer to class information or search online for help\n",
    "\n",
    "# If you are unable to find another one, no worries \n",
    "# Instead use either svm or KNN like above but change it\n",
    "\n",
    "# If using svm, make this change \n",
    "# clf = svm.SVC(gamma='scale', kernel='rbf') -> for kernel use 'linear', 'poly', or 'sigmoid'\n",
    "# try with the above three kernel functions and use the one with higher accuracy\n",
    "\n",
    "# If using knn, make this change\n",
    "# knn = KNeighborsClassifier(n_neighbors=5) -> for n_neighbors use 1, 3, or 7 instead of 5\n",
    "# try with the above three neighbors values and use the one with higher accuracy"
   ]
  },
  {
   "attachments": {},
   "cell_type": "markdown",
   "metadata": {},
   "source": [
    "**(Darlene)** \n",
    "If you have time, maybe try to improve the accuracy in the code\n",
    "\n",
    "If not, the above is okay\n",
    "\n",
    "Explain what you did (1 to 2 sentences, keep short)\n",
    "\n",
    "Discuss Inferences Uncovered (1 to 3 sentences, keep short)"
   ]
  },
  {
   "attachments": {},
   "cell_type": "markdown",
   "metadata": {},
   "source": [
    "### Results"
   ]
  },
  {
   "attachments": {},
   "cell_type": "markdown",
   "metadata": {},
   "source": [
    "**Discuss inferences or correlations uncovered**\n",
    "\n",
    "Different moods of music tend to follow a specific pattern when it comes to tempo and time signature. If we analyze the two visualizations, we can see that \"Happy\" music has a rather narrow range for both. The happy music from the dataset only has time signatures of 3 and 4, and has the narrowest range between the first and third quartiles within the box plot visualization. From this, we can infer that we as humans consider a song to be \"happy\" only if it follows a particular formula of having the correct rhythm, influenced by tempo and time signature. \n",
    "\n",
    "**Discuss the tools (ML models) built**\n",
    "\n",
    "The tools we built were various ML models that used different musical features to determine the mood of the music as a result of these features. The main features that the ML models built were finding how well the mood of the music can be predicted based on the popularity, tempo, and time signature/key. The ML models used baseline comparisons to compare/contrast with the models accuracy of svm and KNN to determine the predictive accuracy in determining mood. From the ML models built, it appears that tempo had the highest predictive accuracy with the 5-KNN ML model to explain mood compared to other music features.\n",
    "\n",
    "**Discuss the visualizations created**\n",
    "\n",
    "There were two visualizations that were created to determine how different music features can explain the mood of the music. The first visualization focused on how song popularity is affected by the mood and time signature of the song which illustrates how \"Happy\" and \"Energetic\" songs have limited time signatures being either 3 or 4 beats per measure to create music of this feeling. Another visualization focused on how song tempo can impact different moods to emerge in music where \"Happy\" songs have limited range of tempos to dictate music to be happy unlike other moods such as sad, energetic, or calm."
   ]
  }
 ],
 "metadata": {
  "kernelspec": {
   "display_name": "Python 3",
   "language": "python",
   "name": "python3"
  },
  "language_info": {
   "codemirror_mode": {
    "name": "ipython",
    "version": 3
   },
   "file_extension": ".py",
   "mimetype": "text/x-python",
   "name": "python",
   "nbconvert_exporter": "python",
   "pygments_lexer": "ipython3",
   "version": "3.9.5"
  }
 },
 "nbformat": 4,
 "nbformat_minor": 2
}
